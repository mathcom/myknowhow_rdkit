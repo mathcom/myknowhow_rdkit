{
 "cells": [
  {
   "cell_type": "code",
   "execution_count": 1,
   "id": "e5ee7cae",
   "metadata": {},
   "outputs": [],
   "source": [
    "import networkx as nx\n",
    "from rdkit.Chem import MolFromSmiles, rdmolops"
   ]
  },
  {
   "cell_type": "code",
   "execution_count": 2,
   "id": "5f9eb2a5",
   "metadata": {},
   "outputs": [],
   "source": [
    "def GetNumAtoms(smi):\n",
    "    mol = MolFromSmiles(smi)\n",
    "    return mol.GetNumAtoms()\n",
    "\n",
    "def GetNumRings(smi):\n",
    "    mol = MolFromSmiles(smi)\n",
    "    cycle_list = nx.cycle_basis(nx.Graph(rdmolops.GetAdjacencyMatrix(mol)))\n",
    "    return len(cycle_list)"
   ]
  },
  {
   "cell_type": "code",
   "execution_count": 3,
   "id": "fd397c8e",
   "metadata": {},
   "outputs": [],
   "source": [
    "data = [\"Cc1cccc(-c2ccc3c(c2)cc(C)n3-c2ccccc2)c1\",\n",
    "        \"COc1ccc(NC(=O)c2cc(-n3ncc(C)c3C)ccc2F)cc1C\",\n",
    "        \"CC(C#N)(c1ccccc1)c1ccccc1\",\n",
    "        \"Cc1cc(C(=O)NCCCCN2CCN(c3cnc(N(C)C)nc3C)CC2)co1\",\n",
    "        \"Cc1nn(C)c2c(=O)c3c(Cl)cccc3[nH]c12\"]"
   ]
  },
  {
   "cell_type": "code",
   "execution_count": 4,
   "id": "e1209902",
   "metadata": {},
   "outputs": [
    {
     "name": "stdout",
     "output_type": "stream",
     "text": [
      "[0] #atom: 23\t#ring: 4\n",
      "[1] #atom: 26\t#ring: 3\n",
      "[2] #atom: 16\t#ring: 2\n",
      "[3] #atom: 29\t#ring: 3\n",
      "[4] #atom: 17\t#ring: 3\n"
     ]
    }
   ],
   "source": [
    "for i, smi in enumerate(data):\n",
    "    num_atoms = GetNumAtoms(smi)\n",
    "    num_rings = GetNumRings(smi)\n",
    "    print(f\"[{i}] #atom: {num_atoms}\\t#ring: {num_rings}\")"
   ]
  },
  {
   "cell_type": "code",
   "execution_count": null,
   "id": "b92718e8",
   "metadata": {},
   "outputs": [],
   "source": []
  }
 ],
 "metadata": {
  "kernelspec": {
   "display_name": "Python 3 (ipykernel)",
   "language": "python",
   "name": "python3"
  },
  "language_info": {
   "codemirror_mode": {
    "name": "ipython",
    "version": 3
   },
   "file_extension": ".py",
   "mimetype": "text/x-python",
   "name": "python",
   "nbconvert_exporter": "python",
   "pygments_lexer": "ipython3",
   "version": "3.9.12"
  }
 },
 "nbformat": 4,
 "nbformat_minor": 5
}
