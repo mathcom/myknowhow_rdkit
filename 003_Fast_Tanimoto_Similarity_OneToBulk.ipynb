{
 "cells": [
  {
   "cell_type": "code",
   "execution_count": 1,
   "id": "976bb61a",
   "metadata": {},
   "outputs": [],
   "source": [
    "from rdkit import Chem\n",
    "from rdkit.DataStructs import TanimotoSimilarity\n",
    "from rdkit.Chem.AllChem import GetMorganFingerprintAsBitVect\n",
    "import numpy as np\n",
    "import time"
   ]
  },
  {
   "cell_type": "code",
   "execution_count": 2,
   "id": "877b565e",
   "metadata": {},
   "outputs": [],
   "source": [
    "def slow_similarity(a, b):\n",
    "    if a is None or b is None: \n",
    "        return 0.0\n",
    "    amol = Chem.MolFromSmiles(a)\n",
    "    bmol = Chem.MolFromSmiles(b)\n",
    "    if amol is None or bmol is None:\n",
    "        return 0.0\n",
    "    else:\n",
    "        fp1 = GetMorganFingerprintAsBitVect(amol, 2, nBits=2048, useChirality=False)\n",
    "        fp2 = GetMorganFingerprintAsBitVect(bmol, 2, nBits=2048, useChirality=False)\n",
    "        return TanimotoSimilarity(fp1, fp2) "
   ]
  },
  {
   "cell_type": "code",
   "execution_count": 3,
   "id": "ea24ab09",
   "metadata": {},
   "outputs": [],
   "source": [
    "class FastTanimotoOneToBulk:\n",
    "    def __init__(self, bs):\n",
    "        self.bs = bs\n",
    "        self.b_fps = np.vstack([self._fingerprints_from_smi(smi) for smi in self.bs])\n",
    "        \n",
    "    def __call__(self, a):\n",
    "        a_fp = self._fingerprints_from_smi(a)\n",
    "        return (a_fp&self.b_fps).sum(axis=1) / (a_fp|self.b_fps).sum(axis=1)\n",
    "        \n",
    "    def _fingerprints_from_smi(self, smi):\n",
    "        mol = Chem.MolFromSmiles(smi)\n",
    "        fp = GetMorganFingerprintAsBitVect(mol, 2, nBits=2048, useChirality=False)\n",
    "        nfp = np.array([b=='1' for b in fp.ToBitString()])\n",
    "        return nfp"
   ]
  },
  {
   "cell_type": "markdown",
   "id": "44d734b9",
   "metadata": {},
   "source": [
    "# Load the example data"
   ]
  },
  {
   "cell_type": "code",
   "execution_count": 4,
   "id": "5911c9d1",
   "metadata": {},
   "outputs": [
    {
     "name": "stdout",
     "output_type": "stream",
     "text": [
      "50000\n"
     ]
    }
   ],
   "source": [
    "with open('003_Fast_Tanimoto_Similarity_OneToBulk_data.txt') as f:\n",
    "    bulks = [line.rstrip() for line in f.readlines()]\n",
    "\n",
    "print(len(bulks))"
   ]
  },
  {
   "cell_type": "markdown",
   "id": "a3423854",
   "metadata": {},
   "source": [
    "# Case1 : one-to-bulk"
   ]
  },
  {
   "cell_type": "code",
   "execution_count": 5,
   "id": "7c573447",
   "metadata": {},
   "outputs": [],
   "source": [
    "ex = 'ClC1=CC=C2C(C=C(C(C)=O)C(C(NC3=CC(NC(NC4=CC(C5=C(C)C=CC=C5)=CC=C4)=O)=CC=C3)=O)=C2)=C1'"
   ]
  },
  {
   "cell_type": "code",
   "execution_count": 6,
   "id": "e68e05ae",
   "metadata": {},
   "outputs": [
    {
     "name": "stdout",
     "output_type": "stream",
     "text": [
      "0.423728813559322\n",
      "0.13234524722503668\n",
      "0.0\n",
      "17.174 sec\n"
     ]
    }
   ],
   "source": [
    "start_time = time.time()\n",
    "\n",
    "res_slow = [slow_similarity(ex, b) for b in bulks]\n",
    "print(np.max(res_slow))\n",
    "print(np.mean(res_slow))\n",
    "print(np.min(res_slow))\n",
    "\n",
    "print(f\"{time.time() - start_time:.3f} sec\")"
   ]
  },
  {
   "cell_type": "code",
   "execution_count": 7,
   "id": "7c486d20",
   "metadata": {},
   "outputs": [
    {
     "name": "stdout",
     "output_type": "stream",
     "text": [
      "0.423728813559322\n",
      "0.13234524722503668\n",
      "0.0\n",
      "14.643 sec\n"
     ]
    }
   ],
   "source": [
    "start_time = time.time()\n",
    "\n",
    "res_fast = FastTanimotoOneToBulk(bulks)(ex)\n",
    "print(np.max(res_fast))\n",
    "print(np.mean(res_fast))\n",
    "print(np.min(res_fast))\n",
    "\n",
    "print(f\"{time.time() - start_time:.3f} sec\")"
   ]
  },
  {
   "cell_type": "markdown",
   "id": "d91985f8",
   "metadata": {},
   "source": [
    "# Case2: bulk-to-bulk"
   ]
  },
  {
   "cell_type": "code",
   "execution_count": 8,
   "id": "436a2ec4",
   "metadata": {},
   "outputs": [],
   "source": [
    "bulk2 = ['CC(=O)NCCNC(=O)C1=C(C2CC2)N(C2=CC=C(C)C(Cl)=C2)N=C1',\n",
    "        'CC(C(=O)C1=C2C=CC=CC2=[NH+]C1)[NH+]1CCCC1C1CC=CS1',\n",
    "        'CCN(CC1CCOC1)C(=O)C1=CC=NC(Cl)=C1',\n",
    "        'CC1=CC=CC=C1CS(=O)CCCC1=CC=CC=C1',\n",
    "        'CSCC(=O)NNC(=O)C1=C(O)C=C(Cl)C=C1Cl',\n",
    "        'C1=CC=C(C2=CC(N3CC4C5CCC(O5)C4C3)=C3C=CC=CC3=[NH+]2)C=C1',\n",
    "        'CC1=CC(CNC(=O)NC2=NOC(C3=CC=CC=C3)=C2)=NO1',\n",
    "        'CC1=CC2=NC=C(C(=O)NC3=N[N-]C(C(F)(F)F)=N3)C(=O)N2C=C1',\n",
    "        'CN(CC1=CC=NC=C1)C(=O)C1=CC=C(I)C=C1',\n",
    "        'COC1=CC=CC=C1N1CCN(C2=NN(CC(=O)NC3CC3)C(=O)C=C2)CC1']"
   ]
  },
  {
   "cell_type": "code",
   "execution_count": 9,
   "id": "78419192",
   "metadata": {},
   "outputs": [
    {
     "name": "stdout",
     "output_type": "stream",
     "text": [
      "122.953 sec\n"
     ]
    }
   ],
   "source": [
    "start_time = time.time()\n",
    "\n",
    "for ex in bulk2:\n",
    "    res_slow = [slow_similarity(ex, b) for b in bulks]\n",
    "\n",
    "print(f\"{time.time() - start_time:.3f} sec\")"
   ]
  },
  {
   "cell_type": "code",
   "execution_count": 10,
   "id": "fe0cb8b1",
   "metadata": {},
   "outputs": [
    {
     "name": "stdout",
     "output_type": "stream",
     "text": [
      "16.234 sec\n"
     ]
    }
   ],
   "source": [
    "start_time = time.time()\n",
    "\n",
    "calc_sim = FastTanimotoOneToBulk(bulks)\n",
    "for ex in bulk2:\n",
    "    res_slow = calc_sim(ex)\n",
    "\n",
    "print(f\"{time.time() - start_time:.3f} sec\")"
   ]
  }
 ],
 "metadata": {
  "kernelspec": {
   "display_name": "Python 3 (ipykernel)",
   "language": "python",
   "name": "python3"
  },
  "language_info": {
   "codemirror_mode": {
    "name": "ipython",
    "version": 3
   },
   "file_extension": ".py",
   "mimetype": "text/x-python",
   "name": "python",
   "nbconvert_exporter": "python",
   "pygments_lexer": "ipython3",
   "version": "3.9.12"
  }
 },
 "nbformat": 4,
 "nbformat_minor": 5
}
